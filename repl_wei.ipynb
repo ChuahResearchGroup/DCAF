{
 "cells": [
  {
   "cell_type": "code",
   "execution_count": 7,
   "metadata": {},
   "outputs": [
    {
     "name": "stdout",
     "output_type": "stream",
     "text": [
      "(36452, 112)\n"
     ]
    },
    {
     "data": {
      "text/plain": [
       "(12078, 24)"
      ]
     },
     "execution_count": 7,
     "metadata": {},
     "output_type": "execute_result"
    }
   ],
   "source": [
    "import networkx as nx\n",
    "import cdlib\n",
    "from tqdm import tqdm\n",
    "import umap\n",
    "import sklearn, itertools, random\n",
    "import pandas as pd\n",
    "from sklearn.neighbors import kneighbors_graph\n",
    "from sklearn.decomposition import PCA\n",
    "import scipy as sp\n",
    "from statsmodels.stats.multitest import multipletests\n",
    "import matplotlib.pyplot as plt\n",
    "import numpy as np\n",
    "import igraph as ig\n",
    "from sklearn.utils import shuffle\n",
    "import scipy\n",
    "import leidenalg\n",
    "import math\n",
    "from sklearn.metrics import adjusted_mutual_info_score\n",
    "\n",
    "df_1 = pd.read_csv('ReTranscriptomics.csv')\n",
    "print(df_1.shape)\n",
    "df_2 = pd.read_csv('ReProteomics.csv')\n",
    "df_1 = df_1.iloc[df_1[df_1['BH Adj P-Value'] <= 0.01].index.tolist(),:]\n",
    "df_2 = df_2.iloc[df_2[df_2['BH Adj P-Value'] <= 0.01].index.tolist(),:]\n",
    "\n",
    "df_c = pd.concat([df_1, df_2])\n",
    "df_c = df_c.reset_index().drop(columns = 'index')\n",
    "\n",
    "\n",
    "df_c = df_c[df_c['Period'] >= 12]\n",
    "df_c = df_c[df_c['Period'] <= 36]\n",
    "ids = df_c['Gene Name'].values\n",
    "df_c.shape\n",
    "\n",
    "df = df_c.iloc[:,df_c.columns.str.startswith('Fitted')]\n",
    "df.shape"
   ]
  },
  {
   "cell_type": "code",
   "execution_count": 8,
   "metadata": {},
   "outputs": [],
   "source": [
    "from sklearn.cluster import SpectralClustering\n",
    "corr = np.corrcoef(df)\n",
    "spc = SpectralClustering(n_clusters = 30, random_state = 1, affinity = 'precomputed', n_jobs = -1)\n",
    "mat = np.power(corr,3)\n",
    "    \n",
    "X_std = (mat - mat.min()) / (mat.max() - mat.min())\n",
    "    \n",
    "X_sc = X_std * (1-0) + 0\n",
    "spc_model = spc.fit(X_sc)\n",
    "        \n",
    "spc_labels = spc_model.labels_\n",
    "                "
   ]
  },
  {
   "cell_type": "code",
   "execution_count": 9,
   "metadata": {},
   "outputs": [
    {
     "data": {
      "text/plain": [
       "array([11, 11, 25, 11, 11, 13, 11, 11, 11, 17, 11, 11, 11, 11],\n",
       "      dtype=int32)"
      ]
     },
     "execution_count": 9,
     "metadata": {},
     "output_type": "execute_result"
    }
   ],
   "source": [
    "ccc = ['Nr1d1', 'Nr1d2', 'Cry1', 'Cry2', 'Per1', 'Per2', 'Ciart', 'Dbp', 'Tef', 'Npas2', 'Ifit3', 'Ifit1', 'Ifit2', 'Oas2']\n",
    "cc_i = [np.where(ids == ccc[i])[0][0] for i in range(len(ccc))]\n",
    "cc_i\n",
    "\n",
    "spc_labels[cc_i]"
   ]
  },
  {
   "cell_type": "code",
   "execution_count": 10,
   "metadata": {},
   "outputs": [
    {
     "name": "stderr",
     "output_type": "stream",
     "text": [
      "100%|██████████| 50/50 [31:10<00:00, 37.42s/it]\n",
      "100%|██████████| 50/50 [28:27<00:00, 34.15s/it]\n",
      "100%|██████████| 50/50 [25:54<00:00, 31.10s/it]\n",
      "100%|██████████| 50/50 [26:04<00:00, 31.29s/it]\n",
      "100%|██████████| 50/50 [25:56<00:00, 31.14s/it]\n",
      "100%|██████████| 50/50 [25:53<00:00, 31.07s/it]\n",
      "100%|██████████| 50/50 [25:59<00:00, 31.20s/it]\n",
      "100%|██████████| 50/50 [27:31<00:00, 33.04s/it]\n",
      "100%|██████████| 50/50 [27:36<00:00, 33.14s/it]\n",
      "100%|██████████| 50/50 [27:54<00:00, 33.48s/it]\n"
     ]
    }
   ],
   "source": [
    "def GaussianNoiseGenerator(noise, data, r):\n",
    "    if len(data.shape) == 1:\n",
    "        n_rows = len(data)\n",
    "        n_cols = 1\n",
    "        NoiseLayer = np.empty((n_rows))\n",
    "    else:\n",
    "        n_rows, n_cols = data.shape\n",
    "        NoiseLayer = np.empty((n_rows, n_cols))\n",
    "    \n",
    "    if noise == 0:\n",
    "        return data\n",
    "    \n",
    "    for i in range(n_cols):\n",
    "        np.random.seed(r*i)\n",
    "        scale = noise*np.std(data[:,i])\n",
    "        if len(NoiseLayer.shape) == 1:\n",
    "            NoiseLayer = np.random.normal(loc = 0, scale = scale, size = n_rows)\n",
    "        else:\n",
    "            NoiseLayer[:,i] = np.random.normal(loc = 0, scale = scale, size = n_rows)\n",
    "        NoiseLayer[:,i] = shuffle(NoiseLayer[:,i], random_state = r*i)\n",
    "            \n",
    "    NoisyData = np.copy(data) + NoiseLayer\n",
    "        \n",
    "    return NoisyData\n",
    "\n",
    "x = np.array(df)\n",
    "num_iter = 50\n",
    "noise_levels = [0.05, 0.1, 0.15, 0.2, 0.25, 0.3, 0.35, 0.4, 0.45, 0.5]\n",
    "ari_spc = []\n",
    " \n",
    "for j in range(len(noise_levels)):\n",
    "    n_ = noise_levels[j]\n",
    "    temp = np.zeros((50,))\n",
    "    for k in tqdm(range(num_iter)):\n",
    "        N = GaussianNoiseGenerator(noise = n_, data = x, r = k*j)\n",
    "        NC = np.corrcoef(N)\n",
    "            \n",
    "        spc = SpectralClustering(n_clusters = 30, random_state = 1, affinity = 'precomputed', n_jobs = -1)        \n",
    "        mat = np.power(NC,3)\n",
    "    \n",
    "        X_std = (mat - mat.min()) / (mat.max() - mat.min())\n",
    "    \n",
    "        X_sc = X_std * (1-0) + 0\n",
    "        spc_model = spc.fit(X_sc)\n",
    "        \n",
    "        spc_pert = spc_model.labels_\n",
    "                \n",
    "        temp[k] = adjusted_mutual_info_score(spc_pert, spc_labels)\n",
    "\n",
    "            \n",
    "    ari_spc.append(np.mean(temp))\n",
    "\n",
    "        \n",
    "\n",
    "        \n"
   ]
  },
  {
   "cell_type": "code",
   "execution_count": 11,
   "metadata": {},
   "outputs": [
    {
     "data": {
      "text/plain": [
       "[0.8084852098575638,\n",
       " 0.7403446007942174,\n",
       " 0.7214372748693425,\n",
       " 0.6997191784874143,\n",
       " 0.6700539068394451,\n",
       " 0.6387686259696274,\n",
       " 0.6093288009701755,\n",
       " 0.5793476343112645,\n",
       " 0.5556484731686921,\n",
       " 0.5331116800589182]"
      ]
     },
     "execution_count": 11,
     "metadata": {},
     "output_type": "execute_result"
    }
   ],
   "source": [
    "ari_spc"
   ]
  },
  {
   "cell_type": "code",
   "execution_count": 12,
   "metadata": {},
   "outputs": [
    {
     "data": {
      "text/plain": [
       "[0.05, 0.1, 0.15, 0.2, 0.25, 0.3, 0.35, 0.4, 0.45, 0.5]"
      ]
     },
     "execution_count": 12,
     "metadata": {},
     "output_type": "execute_result"
    }
   ],
   "source": [
    "noise_levels"
   ]
  },
  {
   "cell_type": "code",
   "execution_count": 13,
   "metadata": {},
   "outputs": [
    {
     "data": {
      "text/plain": [
       "<BarContainer object of 10 artists>"
      ]
     },
     "execution_count": 13,
     "metadata": {},
     "output_type": "execute_result"
    },
    {
     "data": {
      "image/png": "[encoded data removed]",
      "text/plain": [
       "<Figure size 640x480 with 1 Axes>"
      ]
     },
     "metadata": {},
     "output_type": "display_data"
    }
   ],
   "source": [
    "x_axis = np.arange(10)\n",
    "plt.xlim([0.03,0.52])\n",
    "plt.ylabel('Average Adjusted Mutual Information Score')\n",
    "plt.xlabel('Standard Deviation of Noise Distribution')\n",
    "#plt.xticks(['0','0.05','0.1','0.15','0.2','0.25','0.3','0.35','0.4','0.45','0.5'])\n",
    "plt.bar(noise_levels, ari_spc, width = 0.02)"
   ]
  },
  {
   "cell_type": "code",
   "execution_count": null,
   "metadata": {},
   "outputs": [],
   "source": []
  }
 ],
 "metadata": {
  "kernelspec": {
   "display_name": "python (jenv)",
   "language": "python",
   "name": "jenv"
  },
  "language_info": {
   "codemirror_mode": {
    "name": "ipython",
    "version": 3
   },
   "file_extension": ".py",
   "mimetype": "text/x-python",
   "name": "python",
   "nbconvert_exporter": "python",
   "pygments_lexer": "ipython3",
   "version": "3.10.4"
  }
 },
 "nbformat": 4,
 "nbformat_minor": 2
}
